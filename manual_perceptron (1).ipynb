{
 "cells": [
  {
   "attachments": {},
   "cell_type": "markdown",
   "metadata": {},
   "source": [
    "# Name: Rushikesh Jyoti\n",
    "# Divsion: A\n",
    "# Roll no: 27\n",
    "# SRN: 201901139"
   ]
  },
  {
   "attachments": {},
   "cell_type": "markdown",
   "metadata": {},
   "source": [
    "# Problem Statement\n",
    "\n",
    "Write a program to implement single perceptron model Using ANN.  Use suitbale datatset."
   ]
  },
  {
   "attachments": {},
   "cell_type": "markdown",
   "metadata": {},
   "source": [
    "# Single Perceptron Model"
   ]
  },
  {
   "attachments": {},
   "cell_type": "markdown",
   "metadata": {},
   "source": [
    "<!-- <img src=./perceptron_image.png width=720> -->\n",
    "\n",
    "<img src=https://images.deepai.org/glossary-terms/perceptron-6168423.jpg width=720>"
   ]
  },
  {
   "cell_type": "code",
   "execution_count": 8,
   "metadata": {},
   "outputs": [],
   "source": [
    "import numpy as np "
   ]
  },
  {
   "attachments": {},
   "cell_type": "markdown",
   "metadata": {},
   "source": [
    "The given weights and biases are taken from notes on **16/11/2022**"
   ]
  },
  {
   "cell_type": "code",
   "execution_count": 9,
   "metadata": {},
   "outputs": [
    {
     "data": {
      "text/plain": [
       "(4, 2)"
      ]
     },
     "execution_count": 9,
     "metadata": {},
     "output_type": "execute_result"
    }
   ],
   "source": [
    "fruits = np.array([\n",
    "    [121, 16.8], # Fruit 1\n",
    "    [114, 15.2], # Fruit 1\n",
    "    [210, 9.4],  # Fruit 2\n",
    "    [196, 8.1],  # Fruit 2\n",
    "])\n",
    "\n",
    "fruits.shape"
   ]
  },
  {
   "cell_type": "code",
   "execution_count": 10,
   "metadata": {},
   "outputs": [
    {
     "name": "stdout",
     "output_type": "stream",
     "text": [
      "(3,)\n",
      "(3,)\n",
      "[  1.  196.    8.1]\n"
     ]
    }
   ],
   "source": [
    "correct_weights = np.array(\n",
    "    # Bias   w1     w2\n",
    "    # |      |      |\n",
    "    # v      v      v\n",
    "    [50,    -30,  300],\n",
    "    dtype=np.float64\n",
    ")\n",
    "\n",
    "# Make changes here, change the input fruit's weight and length\n",
    "#               |\n",
    "#               v\n",
    "inputs = fruits[3]\n",
    "# inputs = [140, 17.9]   # Unknown Fruit\n",
    "\n",
    "inputs = np.pad(inputs, (1, 0), mode='constant', constant_values = 1) # Padding input with 1 at the start of array\n",
    "\n",
    "print(correct_weights.shape)\n",
    "print(inputs.shape)\n",
    "print(inputs)"
   ]
  },
  {
   "attachments": {},
   "cell_type": "markdown",
   "metadata": {},
   "source": [
    "Weighted Input"
   ]
  },
  {
   "cell_type": "code",
   "execution_count": 11,
   "metadata": {},
   "outputs": [
    {
     "data": {
      "text/plain": [
       "-3400.0"
      ]
     },
     "execution_count": 11,
     "metadata": {},
     "output_type": "execute_result"
    }
   ],
   "source": [
    "wi = correct_weights.dot(inputs)\n",
    "wi "
   ]
  },
  {
   "attachments": {},
   "cell_type": "markdown",
   "metadata": {},
   "source": [
    "Activation Function"
   ]
  },
  {
   "cell_type": "code",
   "execution_count": 12,
   "metadata": {},
   "outputs": [
    {
     "name": "stdout",
     "output_type": "stream",
     "text": [
      "Sign -1.0\n",
      "Tanh -1.0\n"
     ]
    }
   ],
   "source": [
    "print(\"Sign\", np.sign(wi))\n",
    "print(\"Tanh\", np.tanh(wi))\n",
    "# print(\"Sigmoid\", 1 / (1 + np.exp(-wi))) \n",
    "# print(\"ReLu\", wi if wi >= 0 else 0) "
   ]
  },
  {
   "attachments": {},
   "cell_type": "markdown",
   "metadata": {},
   "source": [
    "---"
   ]
  },
  {
   "cell_type": "code",
   "execution_count": 13,
   "metadata": {},
   "outputs": [],
   "source": [
    "# These weights are based on trial and error\n",
    "weights = np.array(\n",
    "    [-1230, 50, 300],\n",
    "    dtype=np.float64\n",
    ")"
   ]
  },
  {
   "cell_type": "code",
   "execution_count": 14,
   "metadata": {},
   "outputs": [
    {
     "data": {
      "text/plain": [
       "array([  1. , 210. ,   9.4])"
      ]
     },
     "execution_count": 14,
     "metadata": {},
     "output_type": "execute_result"
    }
   ],
   "source": [
    "fruit_index = 2\n",
    "inputs = fruits[fruit_index]\n",
    "inputs = np.pad(inputs, (1, 0), constant_values=1)\n",
    "\n",
    "inputs"
   ]
  },
  {
   "cell_type": "code",
   "execution_count": 15,
   "metadata": {},
   "outputs": [
    {
     "data": {
      "text/plain": [
       "-1"
      ]
     },
     "execution_count": 15,
     "metadata": {},
     "output_type": "execute_result"
    }
   ],
   "source": [
    "actual = 1 if fruit_index < 2 else -1\n",
    "actual"
   ]
  },
  {
   "attachments": {},
   "cell_type": "markdown",
   "metadata": {},
   "source": [
    "Rerun from the bottom cell to update weights and biases"
   ]
  },
  {
   "cell_type": "code",
   "execution_count": 16,
   "metadata": {},
   "outputs": [
    {
     "data": {
      "text/plain": [
       "12090.0"
      ]
     },
     "execution_count": 16,
     "metadata": {},
     "output_type": "execute_result"
    }
   ],
   "source": [
    "ws = weights.dot(inputs)\n",
    "ws"
   ]
  },
  {
   "cell_type": "code",
   "execution_count": 17,
   "metadata": {},
   "outputs": [
    {
     "data": {
      "text/plain": [
       "1"
      ]
     },
     "execution_count": 17,
     "metadata": {},
     "output_type": "execute_result"
    }
   ],
   "source": [
    "def activation(value) -> int: \n",
    "    return int(np.sign(value))\n",
    "\n",
    "predicted = activation(ws)\n",
    "predicted"
   ]
  },
  {
   "cell_type": "code",
   "execution_count": 18,
   "metadata": {},
   "outputs": [
    {
     "name": "stdout",
     "output_type": "stream",
     "text": [
      "Actual is -1, predicted is 1\n",
      "Changed weights from [-1230.    50.   300.] to [-1230.2      8.     298.12]"
     ]
    }
   ],
   "source": [
    "learning_rate = 0.1\n",
    "\n",
    "if actual != predicted:\n",
    "    print(f\"Actual is {actual}, predicted is {predicted}\")\n",
    "    print(f\"Changed weights from {weights} to \", end='')\n",
    "    weights = weights + learning_rate * (actual - predicted) * inputs\n",
    "    print(f\"{weights}\", end='')\n",
    "else:\n",
    "    print(\"Prediction is right\")"
   ]
  },
  {
   "cell_type": "code",
   "execution_count": 19,
   "metadata": {},
   "outputs": [
    {
     "data": {
      "text/plain": [
       "array([-1230.2 ,     8.  ,   298.12])"
      ]
     },
     "execution_count": 19,
     "metadata": {},
     "output_type": "execute_result"
    }
   ],
   "source": [
    "weights"
   ]
  }
 ],
 "metadata": {
  "kernelspec": {
   "display_name": "R-venv",
   "language": "python",
   "name": "python3"
  },
  "language_info": {
   "codemirror_mode": {
    "name": "ipython",
    "version": 3
   },
   "file_extension": ".py",
   "mimetype": "text/x-python",
   "name": "python",
   "nbconvert_exporter": "python",
   "pygments_lexer": "ipython3",
   "version": "3.8.12"
  },
  "orig_nbformat": 4,
  "vscode": {
   "interpreter": {
    "hash": "60206ec51ccd8dfa4c6a38d1a2819aefbd16daad921feafe6ff06c62534c2b4c"
   }
  }
 },
 "nbformat": 4,
 "nbformat_minor": 2
}
